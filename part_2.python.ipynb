{
 "cells": [
  {
   "cell_type": "markdown",
   "metadata": {
    "application/vnd.databricks.v1+cell": {
     "cellMetadata": {},
     "inputWidgets": {},
     "nuid": "038d4a19-6932-4fc5-90cb-a7f794d79c5d",
     "showTitle": false,
     "title": ""
    }
   },
   "source": [
    "# A Quick Introduction to Python"
   ]
  },
  {
   "cell_type": "markdown",
   "metadata": {},
   "source": [
    "## 0. Python, a dynamically-typed language"
   ]
  },
  {
   "cell_type": "markdown",
   "metadata": {},
   "source": [
    "A basic concept that is important to understand about Python is that it's a dynamically-typed language.\n",
    "\n",
    "For our purpose, it is enough to understand that it is usually ran by a Python interpreter, line by line.\n",
    "\n",
    "This means that when you write Python code, the computer you run it on uses a Python interpreter (a dedicated piece of software) to read it one line at a time, interpret the meaning of that line given the code performed so far, and perform that instruction.\n",
    "\n",
    "This is contrasted to other modes of interpreting and performing code — used by other programming languages — where the interpretation and performance of a single line of code can be also informed by lines appearing **after** that line (almost always meaning under it in the code file) and in other files.\n",
    "\n",
    "This is all true to a limited extent, as Python interpretation is more complex, but this is a useful approximation of the truth."
   ]
  },
  {
   "cell_type": "markdown",
   "metadata": {},
   "source": [
    "## 1. Expressions"
   ]
  },
  {
   "cell_type": "markdown",
   "metadata": {},
   "source": [
    "Expressions in Python are what you might think of as calculations: Operations on objects.\n",
    "\n",
    "Everything in Python is an object, including numbers and strings, and so mathematical calculations are also operations on objects."
   ]
  },
  {
   "cell_type": "code",
   "execution_count": 1,
   "metadata": {
    "application/vnd.databricks.v1+cell": {
     "cellMetadata": {},
     "inputWidgets": {},
     "nuid": "3455e3ea-eafd-471f-985e-cb4d84dee312",
     "showTitle": false,
     "title": ""
    }
   },
   "outputs": [
    {
     "data": {
      "text/plain": [
       "7"
      ]
     },
     "execution_count": 1,
     "metadata": {},
     "output_type": "execute_result"
    }
   ],
   "source": [
    "5 + 2"
   ]
  },
  {
   "cell_type": "code",
   "execution_count": 2,
   "metadata": {},
   "outputs": [
    {
     "data": {
      "text/plain": [
       "1"
      ]
     },
     "execution_count": 2,
     "metadata": {},
     "output_type": "execute_result"
    }
   ],
   "source": [
    "3 - 2"
   ]
  },
  {
   "cell_type": "code",
   "execution_count": 3,
   "metadata": {},
   "outputs": [
    {
     "data": {
      "text/plain": [
       "10.0"
      ]
     },
     "execution_count": 3,
     "metadata": {},
     "output_type": "execute_result"
    }
   ],
   "source": [
    "(4 + (3 - 2)) * 6 / 3"
   ]
  },
  {
   "cell_type": "markdown",
   "metadata": {},
   "source": [
    "This is how you calculate 2 to the power of 6:"
   ]
  },
  {
   "cell_type": "code",
   "execution_count": 4,
   "metadata": {
    "application/vnd.databricks.v1+cell": {
     "cellMetadata": {},
     "inputWidgets": {},
     "nuid": "e2521526-d0f4-4921-be43-7b31b5ac0fbb",
     "showTitle": false,
     "title": ""
    }
   },
   "outputs": [
    {
     "data": {
      "text/plain": [
       "64"
      ]
     },
     "execution_count": 4,
     "metadata": {},
     "output_type": "execute_result"
    }
   ],
   "source": [
    "2**6"
   ]
  },
  {
   "cell_type": "code",
   "execution_count": 5,
   "metadata": {
    "application/vnd.databricks.v1+cell": {
     "cellMetadata": {},
     "inputWidgets": {},
     "nuid": "612d7e7c-4672-4f66-ab1d-72112a8ac32d",
     "showTitle": false,
     "title": ""
    }
   },
   "outputs": [
    {
     "data": {
      "text/plain": [
       "-1150"
      ]
     },
     "execution_count": 5,
     "metadata": {},
     "output_type": "execute_result"
    }
   ],
   "source": [
    "23 * (14 - (2**6))"
   ]
  },
  {
   "cell_type": "code",
   "execution_count": 6,
   "metadata": {},
   "outputs": [
    {
     "data": {
      "text/plain": [
       "3"
      ]
     },
     "execution_count": 6,
     "metadata": {},
     "output_type": "execute_result"
    }
   ],
   "source": [
    "int(3.5)"
   ]
  },
  {
   "cell_type": "code",
   "execution_count": 7,
   "metadata": {},
   "outputs": [
    {
     "data": {
      "text/plain": [
       "3.0"
      ]
     },
     "execution_count": 7,
     "metadata": {},
     "output_type": "execute_result"
    }
   ],
   "source": [
    "float(3)"
   ]
  },
  {
   "cell_type": "markdown",
   "metadata": {
    "application/vnd.databricks.v1+cell": {
     "cellMetadata": {},
     "inputWidgets": {},
     "nuid": "61a92284-c2b4-4937-9ce3-a50e01f41a8c",
     "showTitle": false,
     "title": ""
    }
   },
   "source": [
    "## 2. Variables and built-in data types"
   ]
  },
  {
   "cell_type": "markdown",
   "metadata": {},
   "source": [
    "### 2.1. Variables"
   ]
  },
  {
   "cell_type": "markdown",
   "metadata": {},
   "source": [
    "A variable is a named slot/placeholder for an object.\n",
    "\n",
    "We decalre a new variable, named `a`, using the following syntax:"
   ]
  },
  {
   "cell_type": "code",
   "execution_count": 8,
   "metadata": {},
   "outputs": [],
   "source": [
    "a = 5"
   ]
  },
  {
   "cell_type": "markdown",
   "metadata": {},
   "source": [
    "This is called an assignment. Everything to the right of the `=` sign should be a valid Python expression. It is first \"calculated\" (we say it is evaluated) into the resulting Python object (even it the object is just a number); then the result is assigned to the variable with the name to the left of `=`."
   ]
  },
  {
   "cell_type": "markdown",
   "metadata": {},
   "source": [
    "The variable `a` now holds the number 5.\n",
    "\n",
    "We can refer to a instead of 5 now in calculations:"
   ]
  },
  {
   "cell_type": "code",
   "execution_count": 9,
   "metadata": {},
   "outputs": [
    {
     "data": {
      "text/plain": [
       "5"
      ]
     },
     "execution_count": 9,
     "metadata": {},
     "output_type": "execute_result"
    }
   ],
   "source": [
    "a"
   ]
  },
  {
   "cell_type": "code",
   "execution_count": 10,
   "metadata": {},
   "outputs": [
    {
     "name": "stdout",
     "output_type": "stream",
     "text": [
      "5\n"
     ]
    }
   ],
   "source": [
    "print(a)"
   ]
  },
  {
   "cell_type": "code",
   "execution_count": 11,
   "metadata": {},
   "outputs": [
    {
     "data": {
      "text/plain": [
       "7"
      ]
     },
     "execution_count": 11,
     "metadata": {},
     "output_type": "execute_result"
    }
   ],
   "source": [
    "a + 2"
   ]
  },
  {
   "cell_type": "code",
   "execution_count": 12,
   "metadata": {},
   "outputs": [
    {
     "data": {
      "text/plain": [
       "5"
      ]
     },
     "execution_count": 12,
     "metadata": {},
     "output_type": "execute_result"
    }
   ],
   "source": [
    "a"
   ]
  },
  {
   "cell_type": "markdown",
   "metadata": {},
   "source": [
    "We can update the value `a` \"holds\" by assigning to it again:"
   ]
  },
  {
   "cell_type": "code",
   "execution_count": 13,
   "metadata": {},
   "outputs": [],
   "source": [
    "a = 3"
   ]
  },
  {
   "cell_type": "markdown",
   "metadata": {},
   "source": [
    "Note that new calculations will now refer to the new value:"
   ]
  },
  {
   "cell_type": "code",
   "execution_count": 14,
   "metadata": {},
   "outputs": [
    {
     "data": {
      "text/plain": [
       "5"
      ]
     },
     "execution_count": 14,
     "metadata": {},
     "output_type": "execute_result"
    }
   ],
   "source": [
    "a + 2"
   ]
  },
  {
   "cell_type": "markdown",
   "metadata": {},
   "source": [
    "**Variable names:** Any lower-case (a to z), upper-case (A-Z), digit (0 to 9) and `_` can be used in variable names. \n",
    "\n",
    "Valid variable names, for example, are:\n",
    "`a`, `z`, `Ka`, `i4`, `dr45`, `my_dog`, `all_numbers_over_36`, etc."
   ]
  },
  {
   "cell_type": "markdown",
   "metadata": {},
   "source": [
    "### 2.2. Built-in data types"
   ]
  },
  {
   "cell_type": "markdown",
   "metadata": {},
   "source": [
    "So everything in Python is an object, and object have types.\n",
    "\n",
    "The basic types are the built-in types, that come per-defined in Python.\n",
    "\n",
    "The important ones are:\n",
    "1. `int` - Integers: Whole numbers such as -5, 23,000 and 0.\n",
    "2. `float` - Floats: Real numbers, like 3.14 or `-2100.234234`.\n",
    "3. `bool` - Boolean: Either `True` or `False`.\n",
    "4. `str` - Series of characters, like `\"ac\"`, `\"Hello world!\"` and `\"The result of 3 + 2 is 5!\"`."
   ]
  },
  {
   "cell_type": "code",
   "execution_count": 15,
   "metadata": {},
   "outputs": [],
   "source": [
    "a = 5 # integer\n",
    "b = -2.3 # floating point\n",
    "c = True # boolean\n",
    "d = \"bar\" # string"
   ]
  },
  {
   "cell_type": "markdown",
   "metadata": {},
   "source": [
    "`hey`"
   ]
  },
  {
   "cell_type": "code",
   "execution_count": 16,
   "metadata": {},
   "outputs": [
    {
     "data": {
      "text/plain": [
       "'k'"
      ]
     },
     "execution_count": 16,
     "metadata": {},
     "output_type": "execute_result"
    }
   ],
   "source": [
    "'k'"
   ]
  },
  {
   "cell_type": "code",
   "execution_count": 17,
   "metadata": {},
   "outputs": [],
   "source": [
    "e = True"
   ]
  },
  {
   "cell_type": "code",
   "execution_count": 18,
   "metadata": {},
   "outputs": [
    {
     "name": "stdout",
     "output_type": "stream",
     "text": [
      "5\n"
     ]
    }
   ],
   "source": [
    "print(a)"
   ]
  },
  {
   "cell_type": "code",
   "execution_count": 19,
   "metadata": {},
   "outputs": [
    {
     "name": "stdout",
     "output_type": "stream",
     "text": [
      "-2.3\n"
     ]
    }
   ],
   "source": [
    "print(b)"
   ]
  },
  {
   "cell_type": "code",
   "execution_count": 20,
   "metadata": {},
   "outputs": [
    {
     "name": "stdout",
     "output_type": "stream",
     "text": [
      "True\n"
     ]
    }
   ],
   "source": [
    "print(c)"
   ]
  },
  {
   "cell_type": "code",
   "execution_count": 21,
   "metadata": {
    "application/vnd.databricks.v1+cell": {
     "cellMetadata": {},
     "inputWidgets": {},
     "nuid": "2a02dd0f-9d13-4315-9886-3bd18255277a",
     "showTitle": false,
     "title": ""
    }
   },
   "outputs": [
    {
     "name": "stdout",
     "output_type": "stream",
     "text": [
      "bar\n"
     ]
    }
   ],
   "source": [
    "print(d)"
   ]
  },
  {
   "cell_type": "code",
   "execution_count": 22,
   "metadata": {},
   "outputs": [
    {
     "data": {
      "text/plain": [
       "str"
      ]
     },
     "execution_count": 22,
     "metadata": {},
     "output_type": "execute_result"
    }
   ],
   "source": [
    "str"
   ]
  },
  {
   "cell_type": "markdown",
   "metadata": {
    "tags": []
   },
   "source": [
    "## 3. Printing"
   ]
  },
  {
   "cell_type": "markdown",
   "metadata": {
    "application/vnd.databricks.v1+cell": {
     "cellMetadata": {},
     "inputWidgets": {},
     "nuid": "b1901b92-96d5-48a3-b748-20b572879477",
     "showTitle": false,
     "title": ""
    }
   },
   "source": [
    "We can use the built-in `print` function (we'll discuss function shortly) to print literals, variables and expressions using the following syntax:"
   ]
  },
  {
   "cell_type": "code",
   "execution_count": 23,
   "metadata": {
    "application/vnd.databricks.v1+cell": {
     "cellMetadata": {},
     "inputWidgets": {},
     "nuid": "2c63b89c-3772-47d7-ad7d-cb3576f75583",
     "showTitle": false,
     "title": ""
    }
   },
   "outputs": [
    {
     "name": "stdout",
     "output_type": "stream",
     "text": [
      "Hello world!\n"
     ]
    }
   ],
   "source": [
    "print(\"Hello world!\")"
   ]
  },
  {
   "cell_type": "markdown",
   "metadata": {
    "application/vnd.databricks.v1+cell": {
     "cellMetadata": {},
     "inputWidgets": {},
     "nuid": "ed3adf9b-1b9a-4ade-8b5d-d4aab427dd30",
     "showTitle": false,
     "title": ""
    }
   },
   "source": [
    "Printing more than one value:"
   ]
  },
  {
   "cell_type": "code",
   "execution_count": 25,
   "metadata": {
    "application/vnd.databricks.v1+cell": {
     "cellMetadata": {},
     "inputWidgets": {},
     "nuid": "7b077788-8192-4397-a1f1-fb92f5d3e1b7",
     "showTitle": false,
     "title": ""
    }
   },
   "outputs": [
    {
     "name": "stdout",
     "output_type": "stream",
     "text": [
      "5 -2.3 True\n"
     ]
    }
   ],
   "source": [
    "print(a, b, c)"
   ]
  },
  {
   "cell_type": "code",
   "execution_count": 26,
   "metadata": {},
   "outputs": [
    {
     "name": "stdout",
     "output_type": "stream",
     "text": [
      "1 2 3\n"
     ]
    }
   ],
   "source": [
    "print(1, 2, 3)"
   ]
  },
  {
   "cell_type": "markdown",
   "metadata": {
    "application/vnd.databricks.v1+cell": {
     "cellMetadata": {},
     "inputWidgets": {},
     "nuid": "00f22145-1fc5-4c3d-bf13-10fb5571ad98",
     "showTitle": false,
     "title": ""
    },
    "tags": []
   },
   "source": [
    "**Prints combining text and variables**\n",
    "\n",
    "Add and `f` at the start of the string to combine variables \"in-line\" in the text.\n",
    "These are called f-strings:"
   ]
  },
  {
   "cell_type": "code",
   "execution_count": 80,
   "metadata": {},
   "outputs": [],
   "source": [
    "a = 'Bob76'"
   ]
  },
  {
   "cell_type": "code",
   "execution_count": 81,
   "metadata": {},
   "outputs": [
    {
     "name": "stdout",
     "output_type": "stream",
     "text": [
      "The value of a is {a}\n"
     ]
    }
   ],
   "source": [
    "print(\"The value of a is {a}\")"
   ]
  },
  {
   "cell_type": "code",
   "execution_count": 83,
   "metadata": {
    "application/vnd.databricks.v1+cell": {
     "cellMetadata": {},
     "inputWidgets": {},
     "nuid": "cb52b731-d340-4677-a42b-025e12271316",
     "showTitle": false,
     "title": ""
    }
   },
   "outputs": [
    {
     "name": "stdout",
     "output_type": "stream",
     "text": [
      "The value of a is Bob76\n"
     ]
    }
   ],
   "source": [
    "print(f\"The value of a is {a}\")"
   ]
  },
  {
   "cell_type": "code",
   "execution_count": 29,
   "metadata": {},
   "outputs": [
    {
     "name": "stdout",
     "output_type": "stream",
     "text": [
      "The value of b is -2.300\n"
     ]
    }
   ],
   "source": [
    "print(f\"The value of b is {b:.3f}\")"
   ]
  },
  {
   "cell_type": "markdown",
   "metadata": {
    "application/vnd.databricks.v1+cell": {
     "cellMetadata": {},
     "inputWidgets": {},
     "nuid": "dbd70ad5-60da-4fec-9b09-f6d7ad34eb8e",
     "showTitle": false,
     "title": ""
    }
   },
   "source": [
    "**Printing without new line at the end using 'end':**"
   ]
  },
  {
   "cell_type": "code",
   "execution_count": 30,
   "metadata": {
    "application/vnd.databricks.v1+cell": {
     "cellMetadata": {},
     "inputWidgets": {},
     "nuid": "9808c283-d153-4928-8201-ea3a33fa5bb7",
     "showTitle": false,
     "title": ""
    }
   },
   "outputs": [
    {
     "name": "stdout",
     "output_type": "stream",
     "text": [
      "first second third, all in one line\n",
      "And this is in new line\n"
     ]
    }
   ],
   "source": [
    "print(\"first\", end =\" \") \n",
    "print(\"second\", end =\" \") \n",
    "print(\"third, all in one line\")\n",
    "print(\"And this is in new line\")"
   ]
  },
  {
   "cell_type": "markdown",
   "metadata": {
    "application/vnd.databricks.v1+cell": {
     "cellMetadata": {},
     "inputWidgets": {},
     "nuid": "5f2bccbd-587e-4300-af25-5e63fdb17f1d",
     "showTitle": false,
     "title": ""
    },
    "tags": []
   },
   "source": [
    "## 4. Control flow"
   ]
  },
  {
   "cell_type": "markdown",
   "metadata": {
    "application/vnd.databricks.v1+cell": {
     "cellMetadata": {},
     "inputWidgets": {},
     "nuid": "ab074b8c-9f93-48d3-8dc2-b380e012421c",
     "showTitle": false,
     "title": ""
    }
   },
   "source": [
    "### 4.1. The `if` keyword"
   ]
  },
  {
   "cell_type": "code",
   "execution_count": 31,
   "metadata": {},
   "outputs": [
    {
     "data": {
      "text/plain": [
       "5"
      ]
     },
     "execution_count": 31,
     "metadata": {},
     "output_type": "execute_result"
    }
   ],
   "source": [
    "a = 5\n",
    "a"
   ]
  },
  {
   "cell_type": "code",
   "execution_count": 32,
   "metadata": {},
   "outputs": [
    {
     "data": {
      "text/plain": [
       "True"
      ]
     },
     "execution_count": 32,
     "metadata": {},
     "output_type": "execute_result"
    }
   ],
   "source": [
    "a > 0"
   ]
  },
  {
   "cell_type": "code",
   "execution_count": 33,
   "metadata": {},
   "outputs": [],
   "source": [
    "if a < 0:\n",
    "    print('Positive')\n",
    "    print('Koko')"
   ]
  },
  {
   "cell_type": "code",
   "execution_count": 34,
   "metadata": {},
   "outputs": [
    {
     "name": "stdout",
     "output_type": "stream",
     "text": [
      "Positive\n"
     ]
    }
   ],
   "source": [
    "if a > 0:\n",
    "    print('Positive')\n",
    "else:\n",
    "    print('Negative')"
   ]
  },
  {
   "cell_type": "code",
   "execution_count": 35,
   "metadata": {},
   "outputs": [],
   "source": [
    "a = -3"
   ]
  },
  {
   "cell_type": "code",
   "execution_count": 36,
   "metadata": {},
   "outputs": [
    {
     "name": "stdout",
     "output_type": "stream",
     "text": [
      "Negative\n"
     ]
    }
   ],
   "source": [
    "if a > 0:\n",
    "    print('Positive')\n",
    "else:\n",
    "    print('Negative')"
   ]
  },
  {
   "cell_type": "markdown",
   "metadata": {
    "application/vnd.databricks.v1+cell": {
     "cellMetadata": {},
     "inputWidgets": {},
     "nuid": "e10a1291-729f-4089-9846-72572e5e84f9",
     "showTitle": false,
     "title": ""
    },
    "tags": []
   },
   "source": [
    "### 4.2. `for` loops\n",
    "\n",
    "Use 'range(x, y)' for the loop to iterate on indices starting from x (including x) to y (excluding y)"
   ]
  },
  {
   "cell_type": "code",
   "execution_count": 37,
   "metadata": {},
   "outputs": [
    {
     "name": "stdout",
     "output_type": "stream",
     "text": [
      "1 2 3 "
     ]
    }
   ],
   "source": [
    "for i in [1, 2, 3]:\n",
    "    print(i, end = \" \")"
   ]
  },
  {
   "cell_type": "code",
   "execution_count": 38,
   "metadata": {
    "application/vnd.databricks.v1+cell": {
     "cellMetadata": {},
     "inputWidgets": {},
     "nuid": "5a254034-fd7a-4c8a-8127-1853cc1914cd",
     "showTitle": false,
     "title": ""
    }
   },
   "outputs": [
    {
     "name": "stdout",
     "output_type": "stream",
     "text": [
      "0 1 2 3 4 5 6 7 8 9 10 "
     ]
    }
   ],
   "source": [
    "for i in range(0, 11):\n",
    "    print(i, end = \" \")"
   ]
  },
  {
   "cell_type": "markdown",
   "metadata": {},
   "source": [
    "### 4.3. `while` loops"
   ]
  },
  {
   "cell_type": "markdown",
   "metadata": {},
   "source": [
    "Perform an instruction - or several instruction - as long as some condition holds:"
   ]
  },
  {
   "cell_type": "code",
   "execution_count": 39,
   "metadata": {
    "application/vnd.databricks.v1+cell": {
     "cellMetadata": {},
     "inputWidgets": {},
     "nuid": "00242c81-9a7c-4460-9618-741abc05b887",
     "showTitle": false,
     "title": ""
    },
    "tags": []
   },
   "outputs": [
    {
     "name": "stdout",
     "output_type": "stream",
     "text": [
      "10\n",
      "9\n",
      "8\n",
      "7\n",
      "6\n",
      "5\n",
      "4\n",
      "3\n",
      "2\n",
      "1\n"
     ]
    }
   ],
   "source": [
    "i = 10\n",
    "while (i > 0) or (i == -15):\n",
    "    print(i) \n",
    "    i = i - 1"
   ]
  },
  {
   "cell_type": "markdown",
   "metadata": {
    "application/vnd.databricks.v1+cell": {
     "cellMetadata": {},
     "inputWidgets": {},
     "nuid": "055a2ee5-ea14-4b4a-b9e5-7101afd5e353",
     "showTitle": false,
     "title": ""
    },
    "tags": []
   },
   "source": [
    "## 5. Defining functions"
   ]
  },
  {
   "cell_type": "markdown",
   "metadata": {},
   "source": [
    "### 5.1. Standard functions\n",
    "\n",
    "When we want to perform the same series of operations again and again, on a certain type or form of input, we can avoid re-writing that same series of operations by defining it once as a function.\n",
    "\n",
    "Once we finishe calculating the result of the series of instructions, we can return it using the special `return` keyword."
   ]
  },
  {
   "cell_type": "code",
   "execution_count": 40,
   "metadata": {
    "application/vnd.databricks.v1+cell": {
     "cellMetadata": {},
     "inputWidgets": {},
     "nuid": "f41b1892-7b2f-438e-9989-c16fa918e74f",
     "showTitle": false,
     "title": ""
    }
   },
   "outputs": [],
   "source": [
    "def add_one(num):\n",
    "    return num + 1"
   ]
  },
  {
   "cell_type": "markdown",
   "metadata": {},
   "source": [
    "`num` is the first (and in this case, the only) parameter of the function."
   ]
  },
  {
   "cell_type": "markdown",
   "metadata": {
    "application/vnd.databricks.v1+cell": {
     "cellMetadata": {},
     "inputWidgets": {},
     "nuid": "7b3cb1af-a7f3-4bad-87e6-aa2e6ff06d7e",
     "showTitle": false,
     "title": ""
    }
   },
   "source": [
    "We can call the function by writing:"
   ]
  },
  {
   "cell_type": "code",
   "execution_count": 41,
   "metadata": {
    "application/vnd.databricks.v1+cell": {
     "cellMetadata": {},
     "inputWidgets": {},
     "nuid": "1f9ac5c3-1a6e-4a60-8f1e-39261266b499",
     "showTitle": false,
     "title": ""
    }
   },
   "outputs": [
    {
     "data": {
      "text/plain": [
       "5"
      ]
     },
     "execution_count": 41,
     "metadata": {},
     "output_type": "execute_result"
    }
   ],
   "source": [
    "add_one(4)"
   ]
  },
  {
   "cell_type": "markdown",
   "metadata": {},
   "source": [
    "In this case the literal `int` `4` was provided as the *argument* to the first *parameter* - `num` - of the `add_one` function."
   ]
  },
  {
   "cell_type": "markdown",
   "metadata": {
    "application/vnd.databricks.v1+cell": {
     "cellMetadata": {},
     "inputWidgets": {},
     "nuid": "c6ddece7-a96c-4cff-a9d8-47caafe425a6",
     "showTitle": false,
     "title": ""
    }
   },
   "source": [
    "We can of course also store the result in a variable:"
   ]
  },
  {
   "cell_type": "code",
   "execution_count": 42,
   "metadata": {},
   "outputs": [],
   "source": [
    "result = add_one(7)"
   ]
  },
  {
   "cell_type": "code",
   "execution_count": 43,
   "metadata": {},
   "outputs": [
    {
     "name": "stdout",
     "output_type": "stream",
     "text": [
      "8\n"
     ]
    }
   ],
   "source": [
    "print(result)"
   ]
  },
  {
   "cell_type": "code",
   "execution_count": 44,
   "metadata": {},
   "outputs": [
    {
     "name": "stdout",
     "output_type": "stream",
     "text": [
      "The result returned by the function is 8\n"
     ]
    }
   ],
   "source": [
    "print(f\"The result returned by the function is {result}\")"
   ]
  },
  {
   "cell_type": "markdown",
   "metadata": {},
   "source": [
    "**Functions can have more than one line of code:**"
   ]
  },
  {
   "cell_type": "code",
   "execution_count": 45,
   "metadata": {},
   "outputs": [],
   "source": [
    "def find_largest_divider(num):\n",
    "    largest = 1\n",
    "    for i in range(1, num):\n",
    "        if num % i == 0:\n",
    "            largest = i\n",
    "    return largest"
   ]
  },
  {
   "cell_type": "code",
   "execution_count": 46,
   "metadata": {},
   "outputs": [
    {
     "data": {
      "text/plain": [
       "4"
      ]
     },
     "execution_count": 46,
     "metadata": {},
     "output_type": "execute_result"
    }
   ],
   "source": [
    "find_largest_divider(8)"
   ]
  },
  {
   "cell_type": "markdown",
   "metadata": {
    "application/vnd.databricks.v1+cell": {
     "cellMetadata": {},
     "inputWidgets": {},
     "nuid": "ae5e228f-e49b-4296-bf14-3d582acf990c",
     "showTitle": false,
     "title": ""
    }
   },
   "source": [
    "### 5.2. Lambdas - Anonymous functions\n",
    "\n",
    "These can be used in case we need a function to be used in one place, or to do a simple thing.\n",
    "This lambda function is equivalent to the `add_one` function.\n",
    "\n",
    "To the right of the `=` sign you can see the lambda definition.\n",
    "To the left of the `=` sign we declare a variable in which it is stored."
   ]
  },
  {
   "cell_type": "code",
   "execution_count": 1,
   "metadata": {
    "application/vnd.databricks.v1+cell": {
     "cellMetadata": {},
     "inputWidgets": {},
     "nuid": "42cf5aa9-0fc5-4c65-9ddb-ddad2d6eb06e",
     "showTitle": false,
     "title": ""
    }
   },
   "outputs": [],
   "source": [
    "add_one_lambda = lambda num: num + 1"
   ]
  },
  {
   "cell_type": "markdown",
   "metadata": {
    "application/vnd.databricks.v1+cell": {
     "cellMetadata": {},
     "inputWidgets": {},
     "nuid": "1a83f81e-5442-4504-a64f-593e52627dc3",
     "showTitle": false,
     "title": ""
    }
   },
   "source": [
    "Once a function is stored in a variable, we can call the variable to actually call the function it stores!"
   ]
  },
  {
   "cell_type": "code",
   "execution_count": 3,
   "metadata": {
    "application/vnd.databricks.v1+cell": {
     "cellMetadata": {},
     "inputWidgets": {},
     "nuid": "aa303d25-b68d-4840-bf7c-04415fd8c5db",
     "showTitle": false,
     "title": ""
    }
   },
   "outputs": [
    {
     "data": {
      "text/plain": [
       "7"
      ]
     },
     "execution_count": 3,
     "metadata": {},
     "output_type": "execute_result"
    }
   ],
   "source": [
    "add_one_lambda(6)"
   ]
  },
  {
   "cell_type": "markdown",
   "metadata": {
    "application/vnd.databricks.v1+cell": {
     "cellMetadata": {},
     "inputWidgets": {},
     "nuid": "70936fd4-531f-4460-a4ef-12b7393d8da7",
     "showTitle": false,
     "title": ""
    }
   },
   "source": [
    "### 5.3. Functions as arguments to functions"
   ]
  },
  {
   "cell_type": "code",
   "execution_count": 5,
   "metadata": {
    "application/vnd.databricks.v1+cell": {
     "cellMetadata": {},
     "inputWidgets": {},
     "nuid": "ccccb8a8-ea17-4c06-8319-673ba0b24393",
     "showTitle": false,
     "title": ""
    }
   },
   "outputs": [],
   "source": [
    "# 'operate_on_1_to_10' takes 'operator' as an argument.\n",
    "# In line 5 we can see that 'operator' is called with an argument (i).\n",
    "# So, operate_on_1_to_10 is higher-order. \n",
    "\n",
    "def operate_on_1_to_10(operator):\n",
    "    for i in range(1, 11):\n",
    "        #'operator' is called with an argument (i), \n",
    "        # so 'operate_on_1_to_10' is higher-order function\n",
    "        print( operator(i) , end =\" \") "
   ]
  },
  {
   "cell_type": "code",
   "execution_count": 7,
   "metadata": {
    "application/vnd.databricks.v1+cell": {
     "cellMetadata": {},
     "inputWidgets": {},
     "nuid": "15131ebb-fc63-44d1-a402-ba087010467d",
     "showTitle": false,
     "title": ""
    }
   },
   "outputs": [],
   "source": [
    "# lets use the previously defined function 'add_one'\n",
    "# operate_on_1_to_10(add_one)"
   ]
  },
  {
   "cell_type": "code",
   "execution_count": 10,
   "metadata": {
    "application/vnd.databricks.v1+cell": {
     "cellMetadata": {},
     "inputWidgets": {},
     "nuid": "7d9304b2-517b-48a2-9b00-0213f433437c",
     "showTitle": false,
     "title": ""
    }
   },
   "outputs": [
    {
     "name": "stdout",
     "output_type": "stream",
     "text": [
      "0.5 1.0 1.5 2.0 2.5 3.0 3.5 4.0 4.5 5.0 "
     ]
    }
   ],
   "source": [
    "# Alternatively, we can use lambdas as argument and have the same result\n",
    "operate_on_1_to_10(lambda num: num / 2)"
   ]
  },
  {
   "cell_type": "markdown",
   "metadata": {
    "application/vnd.databricks.v1+cell": {
     "cellMetadata": {},
     "inputWidgets": {},
     "nuid": "2d021898-6709-4706-b038-daef153b6678",
     "showTitle": false,
     "title": ""
    },
    "tags": []
   },
   "source": [
    "### 5.4. Methods\n",
    "\n",
    "Methods are functions that belong to a specific object. We will go over a simple when we discuss classes."
   ]
  },
  {
   "cell_type": "markdown",
   "metadata": {
    "application/vnd.databricks.v1+cell": {
     "cellMetadata": {},
     "inputWidgets": {},
     "nuid": "e7139ce7-04e7-4dfd-8dce-2ff37d300335",
     "showTitle": false,
     "title": ""
    }
   },
   "source": [
    "## 6. Data Structures"
   ]
  },
  {
   "cell_type": "markdown",
   "metadata": {
    "application/vnd.databricks.v1+cell": {
     "cellMetadata": {},
     "inputWidgets": {},
     "nuid": "e6a96ac0-a9f1-4408-9d62-7e6f180ea023",
     "showTitle": false,
     "title": ""
    }
   },
   "source": [
    "### 6.1. Lists\n",
    "\n",
    "Lists are dynamically arrays holding objects in-order.\n",
    "They size and content can change during their lifetime."
   ]
  },
  {
   "cell_type": "code",
   "execution_count": 35,
   "metadata": {
    "application/vnd.databricks.v1+cell": {
     "cellMetadata": {},
     "inputWidgets": {},
     "nuid": "8b26bc4a-2c49-4e92-b065-b0ce251d969e",
     "showTitle": false,
     "title": ""
    }
   },
   "outputs": [],
   "source": [
    "listi = [1, True, 'aba']"
   ]
  },
  {
   "cell_type": "code",
   "execution_count": 36,
   "metadata": {},
   "outputs": [
    {
     "data": {
      "text/plain": [
       "[1, True, 'aba']"
      ]
     },
     "execution_count": 36,
     "metadata": {},
     "output_type": "execute_result"
    }
   ],
   "source": [
    "listi"
   ]
  },
  {
   "cell_type": "code",
   "execution_count": 37,
   "metadata": {
    "application/vnd.databricks.v1+cell": {
     "cellMetadata": {},
     "inputWidgets": {},
     "nuid": "8f50571a-e9f2-4dff-a49c-ad67af207b66",
     "showTitle": false,
     "title": ""
    }
   },
   "outputs": [
    {
     "data": {
      "text/plain": [
       "'aba'"
      ]
     },
     "execution_count": 37,
     "metadata": {},
     "output_type": "execute_result"
    }
   ],
   "source": [
    "# we access list items using the [] syntax\n",
    "# 0 is the index first item\n",
    "listi[2]"
   ]
  },
  {
   "cell_type": "code",
   "execution_count": 38,
   "metadata": {
    "application/vnd.databricks.v1+cell": {
     "cellMetadata": {},
     "inputWidgets": {},
     "nuid": "4be3079a-28d4-4c50-986f-5b90dd12978c",
     "showTitle": false,
     "title": ""
    }
   },
   "outputs": [
    {
     "name": "stdout",
     "output_type": "stream",
     "text": [
      "The first cell in my list contains the following value: 1\n"
     ]
    }
   ],
   "source": [
    "print(f\"The first cell in my list contains the following value: {listi[0]}\")"
   ]
  },
  {
   "cell_type": "code",
   "execution_count": 42,
   "metadata": {
    "application/vnd.databricks.v1+cell": {
     "cellMetadata": {},
     "inputWidgets": {},
     "nuid": "85a234ff-4310-4d44-8698-423b62a25d69",
     "showTitle": false,
     "title": ""
    }
   },
   "outputs": [
    {
     "name": "stdout",
     "output_type": "stream",
     "text": [
      "I've updated my list!\n",
      "Look: [5, True, 'aba', 5]\n"
     ]
    }
   ],
   "source": [
    "# we can use the same syntax to assign a new value to an existing cell\n",
    "listi[0] = 5\n",
    "print(f\"I've updated my list!\\nLook: {listi}\")"
   ]
  },
  {
   "cell_type": "markdown",
   "metadata": {
    "application/vnd.databricks.v1+cell": {
     "cellMetadata": {},
     "inputWidgets": {},
     "nuid": "07623af1-62a4-4d8a-865f-e4ab75dfc7ae",
     "showTitle": false,
     "title": ""
    }
   },
   "source": [
    "Here is the first example of a method - a function belonging to an object!"
   ]
  },
  {
   "cell_type": "code",
   "execution_count": 46,
   "metadata": {
    "application/vnd.databricks.v1+cell": {
     "cellMetadata": {},
     "inputWidgets": {},
     "nuid": "c23fdf94-27dd-4e27-9088-10ca6a62475f",
     "showTitle": false,
     "title": ""
    }
   },
   "outputs": [
    {
     "name": "stdout",
     "output_type": "stream",
     "text": [
      "I've added an item to my list!\n",
      "Look: [5, True, 'aba', 5, 5, 5]\n"
     ]
    }
   ],
   "source": [
    "# You can add an item with the `append()` method.\n",
    "listi.append(5)\n",
    "print(f\"I've added an item to my list!\\nLook: {listi}\")"
   ]
  },
  {
   "cell_type": "markdown",
   "metadata": {
    "application/vnd.databricks.v1+cell": {
     "cellMetadata": {},
     "inputWidgets": {},
     "nuid": "6f264180-74fe-47f3-8310-0d44488c8df5",
     "showTitle": false,
     "title": ""
    }
   },
   "source": [
    "Methods usually do *something* to the object, changing its state sometimes.\n",
    "Sometimes, however, they just use the attributes (inner data/variabels) of the object to calculate and output something."
   ]
  },
  {
   "cell_type": "code",
   "execution_count": 44,
   "metadata": {
    "application/vnd.databricks.v1+cell": {
     "cellMetadata": {},
     "inputWidgets": {},
     "nuid": "508ef6c8-f786-416b-9393-c88d423bbd75",
     "showTitle": false,
     "title": ""
    }
   },
   "outputs": [
    {
     "data": {
      "text/plain": [
       "3"
      ]
     },
     "execution_count": 44,
     "metadata": {},
     "output_type": "execute_result"
    }
   ],
   "source": [
    "# for example, the `count()` method receives an object as an input...\n",
    "# and reports the number of times it appears in the list\n",
    "listi.count(5)"
   ]
  },
  {
   "cell_type": "code",
   "execution_count": 47,
   "metadata": {},
   "outputs": [],
   "source": [
    "listi[5] = 8"
   ]
  },
  {
   "cell_type": "code",
   "execution_count": 48,
   "metadata": {},
   "outputs": [
    {
     "data": {
      "text/plain": [
       "[5, True, 'aba', 5, 5, 8]"
      ]
     },
     "execution_count": 48,
     "metadata": {},
     "output_type": "execute_result"
    }
   ],
   "source": [
    "listi"
   ]
  },
  {
   "cell_type": "code",
   "execution_count": 49,
   "metadata": {},
   "outputs": [
    {
     "name": "stdout",
     "output_type": "stream",
     "text": [
      "5\n",
      "True\n",
      "aba\n",
      "5\n",
      "5\n",
      "8\n"
     ]
    }
   ],
   "source": [
    "for i in listi:\n",
    "    print(i)"
   ]
  },
  {
   "cell_type": "markdown",
   "metadata": {
    "application/vnd.databricks.v1+cell": {
     "cellMetadata": {},
     "inputWidgets": {},
     "nuid": "90904467-f66d-45c6-a822-9ecbc029a08e",
     "showTitle": false,
     "title": ""
    }
   },
   "source": [
    "### 6.2. Tuples"
   ]
  },
  {
   "cell_type": "code",
   "execution_count": 50,
   "metadata": {
    "application/vnd.databricks.v1+cell": {
     "cellMetadata": {},
     "inputWidgets": {},
     "nuid": "3993cd96-f41f-41bd-b343-6db155948754",
     "showTitle": false,
     "title": ""
    }
   },
   "outputs": [],
   "source": [
    "# A tuple in Python is like a list, with the difference that we cannot change the elements of a tuple.\n",
    "# Tuples are declared using parentheses. Elements in a tuple can be of any type\n",
    "tuple = ('first element', 'second element', 'third element', 4, 5.2, True)"
   ]
  },
  {
   "cell_type": "code",
   "execution_count": 51,
   "metadata": {
    "application/vnd.databricks.v1+cell": {
     "cellMetadata": {},
     "inputWidgets": {},
     "nuid": "41d37522-206b-4401-a556-3b0ba14383db",
     "showTitle": false,
     "title": ""
    }
   },
   "outputs": [
    {
     "name": "stdout",
     "output_type": "stream",
     "text": [
      "('first element', 'second element', 'third element', 4, 5.2, True)\n"
     ]
    }
   ],
   "source": [
    "print(tuple)"
   ]
  },
  {
   "cell_type": "code",
   "execution_count": 52,
   "metadata": {
    "application/vnd.databricks.v1+cell": {
     "cellMetadata": {},
     "inputWidgets": {},
     "nuid": "2aa15beb-cd98-4404-a7aa-f3e65214d576",
     "showTitle": false,
     "title": ""
    }
   },
   "outputs": [
    {
     "name": "stdout",
     "output_type": "stream",
     "text": [
      "second element\n"
     ]
    }
   ],
   "source": [
    "# Values of a tuple can be accessed square brackets\n",
    "print(tuple[1])"
   ]
  },
  {
   "cell_type": "code",
   "execution_count": 53,
   "metadata": {
    "application/vnd.databricks.v1+cell": {
     "cellMetadata": {},
     "inputWidgets": {},
     "nuid": "6aec7d8f-94f4-4a7b-a3ef-ca0223678b48",
     "showTitle": false,
     "title": ""
    }
   },
   "outputs": [
    {
     "ename": "TypeError",
     "evalue": "'tuple' object does not support item assignment",
     "output_type": "error",
     "traceback": [
      "\u001b[0;31m---------------------------------------------------------------------------\u001b[0m",
      "\u001b[0;31mTypeError\u001b[0m                                 Traceback (most recent call last)",
      "Input \u001b[0;32mIn [53]\u001b[0m, in \u001b[0;36m<module>\u001b[0;34m\u001b[0m\n\u001b[1;32m      1\u001b[0m \u001b[38;5;66;03m# Tuples can not be modified (immutable)\u001b[39;00m\n\u001b[0;32m----> 2\u001b[0m \u001b[38;5;28mtuple\u001b[39m[\u001b[38;5;241m0\u001b[39m] \u001b[38;5;241m=\u001b[39m \u001b[38;5;124m'\u001b[39m\u001b[38;5;124mnew first element\u001b[39m\u001b[38;5;124m'\u001b[39m\n",
      "\u001b[0;31mTypeError\u001b[0m: 'tuple' object does not support item assignment"
     ]
    }
   ],
   "source": [
    "# Tuples can not be modified (immutable)\n",
    "tuple[0] = 'new first element' # this should yield an error!"
   ]
  },
  {
   "cell_type": "code",
   "execution_count": 55,
   "metadata": {
    "application/vnd.databricks.v1+cell": {
     "cellMetadata": {},
     "inputWidgets": {},
     "nuid": "8680e0a2-b072-4fec-b4f0-c7baa7e73dfb",
     "showTitle": false,
     "title": ""
    }
   },
   "outputs": [],
   "source": [
    "# Like lists, tuples can contain other tuples (nesting)\n",
    "t = ('first element', ('first element in nested tuple', 'second element in nested tuple'))"
   ]
  },
  {
   "cell_type": "code",
   "execution_count": 56,
   "metadata": {
    "scrolled": true
   },
   "outputs": [
    {
     "data": {
      "text/plain": [
       "('first element',\n",
       " ('first element in nested tuple', 'second element in nested tuple'))"
      ]
     },
     "execution_count": 56,
     "metadata": {},
     "output_type": "execute_result"
    }
   ],
   "source": [
    "t"
   ]
  },
  {
   "cell_type": "code",
   "execution_count": 63,
   "metadata": {
    "application/vnd.databricks.v1+cell": {
     "cellMetadata": {},
     "inputWidgets": {},
     "nuid": "79c5942e-4d2b-4c40-835f-b01f0ce46776",
     "showTitle": false,
     "title": ""
    }
   },
   "outputs": [
    {
     "name": "stdout",
     "output_type": "stream",
     "text": [
      "('first element in nested tuple', 'second element in nested tuple')\n"
     ]
    }
   ],
   "source": [
    "print(t[1])"
   ]
  },
  {
   "cell_type": "markdown",
   "metadata": {
    "application/vnd.databricks.v1+cell": {
     "cellMetadata": {},
     "inputWidgets": {},
     "nuid": "8c1f47c8-87df-468a-a0a8-1061179c96f2",
     "showTitle": false,
     "title": ""
    }
   },
   "source": [
    "### 6.3. Dictionaries\n",
    "\n",
    "Dictionaries are key-value stores.\n",
    "\n",
    "They map keys to values.\n",
    "\n",
    "For example:"
   ]
  },
  {
   "cell_type": "code",
   "execution_count": 94,
   "metadata": {
    "application/vnd.databricks.v1+cell": {
     "cellMetadata": {},
     "inputWidgets": {},
     "nuid": "dc93e57c-531f-43b8-a254-da3868cb41bc",
     "showTitle": false,
     "title": ""
    }
   },
   "outputs": [],
   "source": [
    "person_to_height_in_cm = {\n",
    "    'Daria': 181,\n",
    "    'Daniel': 172,\n",
    "    'Dogo': 43,\n",
    "}"
   ]
  },
  {
   "cell_type": "code",
   "execution_count": 95,
   "metadata": {},
   "outputs": [
    {
     "data": {
      "text/plain": [
       "{'Daria': 181, 'Daniel': 172, 'Dogo': 43}"
      ]
     },
     "execution_count": 95,
     "metadata": {},
     "output_type": "execute_result"
    }
   ],
   "source": [
    "person_to_height_in_cm"
   ]
  },
  {
   "cell_type": "code",
   "execution_count": 96,
   "metadata": {
    "application/vnd.databricks.v1+cell": {
     "cellMetadata": {},
     "inputWidgets": {},
     "nuid": "bd160a92-2f45-438a-a291-1105c3fd17ba",
     "showTitle": false,
     "title": ""
    }
   },
   "outputs": [
    {
     "data": {
      "text/plain": [
       "181"
      ]
     },
     "execution_count": 96,
     "metadata": {},
     "output_type": "execute_result"
    }
   ],
   "source": [
    "# we access dict mappings using the [] syntax\n",
    "person_to_height_in_cm['Daria']"
   ]
  },
  {
   "cell_type": "code",
   "execution_count": 76,
   "metadata": {
    "application/vnd.databricks.v1+cell": {
     "cellMetadata": {},
     "inputWidgets": {},
     "nuid": "50107965-fbe5-4a19-bafd-ffd757afbbeb",
     "showTitle": false,
     "title": ""
    }
   },
   "outputs": [
    {
     "name": "stdout",
     "output_type": "stream",
     "text": [
      "Daniel's height is 172 centimeters!\n",
      "How delightful!\n"
     ]
    }
   ],
   "source": [
    "# Tip: you can write several strings to be printed by the `print` function\n",
    "# one per line\n",
    "# this is one of the only cases you can use this syntex in Python without a `,`\n",
    "print(\n",
    "    f\"Daniel's height is {person_to_height_in_cm['Daniel']} centimeters!\\n\"\n",
    "    \"How delightful!\"\n",
    ")"
   ]
  },
  {
   "cell_type": "code",
   "execution_count": 97,
   "metadata": {
    "application/vnd.databricks.v1+cell": {
     "cellMetadata": {},
     "inputWidgets": {},
     "nuid": "445bfb3f-c848-4470-bd8a-489421547a5b",
     "showTitle": false,
     "title": ""
    }
   },
   "outputs": [],
   "source": [
    "# we can use the same syntax to assign a new value to an existing cell\n",
    "person_to_height_in_cm['Daniel'] = 151"
   ]
  },
  {
   "cell_type": "code",
   "execution_count": 98,
   "metadata": {},
   "outputs": [
    {
     "data": {
      "text/plain": [
       "{'Daria': 181, 'Daniel': 151, 'Dogo': 43}"
      ]
     },
     "execution_count": 98,
     "metadata": {},
     "output_type": "execute_result"
    }
   ],
   "source": [
    "person_to_height_in_cm"
   ]
  },
  {
   "cell_type": "code",
   "execution_count": 100,
   "metadata": {},
   "outputs": [],
   "source": [
    "person_to_height_in_cm['Bob'] = 141"
   ]
  },
  {
   "cell_type": "code",
   "execution_count": 101,
   "metadata": {},
   "outputs": [
    {
     "data": {
      "text/plain": [
       "{'Daria': 181, 'Daniel': 151, 'Dogo': 43, 'Bob': 141}"
      ]
     },
     "execution_count": 101,
     "metadata": {},
     "output_type": "execute_result"
    }
   ],
   "source": [
    "person_to_height_in_cm"
   ]
  },
  {
   "cell_type": "code",
   "execution_count": 79,
   "metadata": {
    "application/vnd.databricks.v1+cell": {
     "cellMetadata": {},
     "inputWidgets": {},
     "nuid": "cbf83f75-5d3b-4b27-bf05-ef89622b883d",
     "showTitle": false,
     "title": ""
    }
   },
   "outputs": [
    {
     "name": "stdout",
     "output_type": "stream",
     "text": [
      "Daniel's height is now 151 centimeters!\n",
      "How horrendous! The fellow must have been properly squashed!\n"
     ]
    }
   ],
   "source": [
    "print(\n",
    "    f\"Daniel's height is now {person_to_height_in_cm['Daniel']} centimeters!\\n\"\n",
    "    \"How horrendous! The fellow must have been properly squashed!\"\n",
    ")"
   ]
  },
  {
   "cell_type": "markdown",
   "metadata": {},
   "source": [
    "## 7. Classes"
   ]
  },
  {
   "cell_type": "markdown",
   "metadata": {},
   "source": [
    "To define a new **type** of object we can define a class.\n",
    "\n",
    "Usually, we will define the unique `__init__` method which defines how a new object of the type is initialized.\n",
    "\n",
    "For our sake, initializing will mean just assigning the right values to attributes of the object - its properties, themselves being objects.\n",
    "\n",
    "An example will make it clearer:"
   ]
  },
  {
   "cell_type": "code",
   "execution_count": 152,
   "metadata": {},
   "outputs": [],
   "source": [
    "def mail_to(email_adress, email_title, email_content):\n",
    "    print(f\"Sending an email to {email_adress}:\\n {email_title}\")"
   ]
  },
  {
   "cell_type": "code",
   "execution_count": 153,
   "metadata": {},
   "outputs": [],
   "source": [
    "def weekly_mail_candycrush(person):\n",
    "    title = f\"Come back to crush candies with us, {person['name']}!\"\n",
    "    if person['last_week_spend'] > 30:\n",
    "        mail_to(\n",
    "            email_adress=person['email'],\n",
    "            email_title=title,\n",
    "            email_content='<3',\n",
    "        )"
   ]
  },
  {
   "cell_type": "code",
   "execution_count": 154,
   "metadata": {},
   "outputs": [],
   "source": [
    "jane = {\n",
    "    'name': 'Jane',\n",
    "    'height': 151,\n",
    "    'weight': 78,\n",
    "    'sessions': [15, 31, 24],\n",
    "    'email': 'jane2323@gmail.com',\n",
    "    'registraion': 'May',\n",
    "    'last_week_spend': 29,\n",
    "}"
   ]
  },
  {
   "cell_type": "code",
   "execution_count": 163,
   "metadata": {},
   "outputs": [],
   "source": [
    "bob = {\n",
    "    'name': 'Bob',\n",
    "    'height': 141,\n",
    "    'weight': 78,\n",
    "    'sessions': [15, 31, 24],\n",
    "    'email': 'bob111@gmail.com',\n",
    "    'registraion': 'May',\n",
    "}"
   ]
  },
  {
   "cell_type": "code",
   "execution_count": 164,
   "metadata": {},
   "outputs": [
    {
     "data": {
      "text/plain": [
       "'Come back to play, Jane!'"
      ]
     },
     "execution_count": 164,
     "metadata": {},
     "output_type": "execute_result"
    }
   ],
   "source": [
    "title = f\"Come back to play, {jane['name']}!\"\n",
    "title"
   ]
  },
  {
   "cell_type": "code",
   "execution_count": 165,
   "metadata": {},
   "outputs": [],
   "source": [
    "list_of_all_persons = [jane, bob]"
   ]
  },
  {
   "cell_type": "code",
   "execution_count": 166,
   "metadata": {},
   "outputs": [
    {
     "data": {
      "text/plain": [
       "[{'name': 'Jane',\n",
       "  'height': 151,\n",
       "  'weight': 78,\n",
       "  'sessions': [15, 31, 24],\n",
       "  'email': 'jane2323@gmail.com',\n",
       "  'registraion': 'May',\n",
       "  'last_week_spend': 29},\n",
       " {'name': 'Bob',\n",
       "  'height': 141,\n",
       "  'weight': 78,\n",
       "  'sessions': [15, 31, 24],\n",
       "  'email': 'bob111@gmail.com',\n",
       "  'registraion': 'May'}]"
      ]
     },
     "execution_count": 166,
     "metadata": {},
     "output_type": "execute_result"
    }
   ],
   "source": [
    "list_of_all_persons"
   ]
  },
  {
   "cell_type": "code",
   "execution_count": 167,
   "metadata": {},
   "outputs": [],
   "source": [
    "def send_out_weekly_emails(listi):\n",
    "    for person in listi:\n",
    "        weekly_mail_candycrush(person)"
   ]
  },
  {
   "cell_type": "code",
   "execution_count": 168,
   "metadata": {},
   "outputs": [
    {
     "ename": "KeyError",
     "evalue": "'last_week_spend'",
     "output_type": "error",
     "traceback": [
      "\u001b[0;31m---------------------------------------------------------------------------\u001b[0m",
      "\u001b[0;31mKeyError\u001b[0m                                  Traceback (most recent call last)",
      "Input \u001b[0;32mIn [168]\u001b[0m, in \u001b[0;36m<module>\u001b[0;34m\u001b[0m\n\u001b[0;32m----> 1\u001b[0m \u001b[43msend_out_weekly_emails\u001b[49m\u001b[43m(\u001b[49m\u001b[43mlist_of_all_persons\u001b[49m\u001b[43m)\u001b[49m\n",
      "Input \u001b[0;32mIn [167]\u001b[0m, in \u001b[0;36msend_out_weekly_emails\u001b[0;34m(listi)\u001b[0m\n\u001b[1;32m      1\u001b[0m \u001b[38;5;28;01mdef\u001b[39;00m \u001b[38;5;21msend_out_weekly_emails\u001b[39m(listi):\n\u001b[1;32m      2\u001b[0m     \u001b[38;5;28;01mfor\u001b[39;00m person \u001b[38;5;129;01min\u001b[39;00m listi:\n\u001b[0;32m----> 3\u001b[0m         \u001b[43mweekly_mail_candycrush\u001b[49m\u001b[43m(\u001b[49m\u001b[43mperson\u001b[49m\u001b[43m)\u001b[49m\n",
      "Input \u001b[0;32mIn [153]\u001b[0m, in \u001b[0;36mweekly_mail_candycrush\u001b[0;34m(person)\u001b[0m\n\u001b[1;32m      1\u001b[0m \u001b[38;5;28;01mdef\u001b[39;00m \u001b[38;5;21mweekly_mail_candycrush\u001b[39m(person):\n\u001b[1;32m      2\u001b[0m     title \u001b[38;5;241m=\u001b[39m \u001b[38;5;124mf\u001b[39m\u001b[38;5;124m\"\u001b[39m\u001b[38;5;124mCome back to crucsh candies with us, \u001b[39m\u001b[38;5;132;01m{\u001b[39;00mperson[\u001b[38;5;124m'\u001b[39m\u001b[38;5;124mname\u001b[39m\u001b[38;5;124m'\u001b[39m]\u001b[38;5;132;01m}\u001b[39;00m\u001b[38;5;124m!\u001b[39m\u001b[38;5;124m\"\u001b[39m\n\u001b[0;32m----> 3\u001b[0m     \u001b[38;5;28;01mif\u001b[39;00m \u001b[43mperson\u001b[49m\u001b[43m[\u001b[49m\u001b[38;5;124;43m'\u001b[39;49m\u001b[38;5;124;43mlast_week_spend\u001b[39;49m\u001b[38;5;124;43m'\u001b[39;49m\u001b[43m]\u001b[49m \u001b[38;5;241m>\u001b[39m \u001b[38;5;241m30\u001b[39m:\n\u001b[1;32m      4\u001b[0m         mail_to(\n\u001b[1;32m      5\u001b[0m             email_adress\u001b[38;5;241m=\u001b[39mperson[\u001b[38;5;124m'\u001b[39m\u001b[38;5;124memail\u001b[39m\u001b[38;5;124m'\u001b[39m],\n\u001b[1;32m      6\u001b[0m             email_title\u001b[38;5;241m=\u001b[39mtitle,\n\u001b[1;32m      7\u001b[0m             email_content\u001b[38;5;241m=\u001b[39m\u001b[38;5;124m'\u001b[39m\u001b[38;5;124m<3\u001b[39m\u001b[38;5;124m'\u001b[39m,\n\u001b[1;32m      8\u001b[0m         )\n",
      "\u001b[0;31mKeyError\u001b[0m: 'last_week_spend'"
     ]
    }
   ],
   "source": [
    "send_out_weekly_emails(list_of_all_persons)"
   ]
  },
  {
   "cell_type": "code",
   "execution_count": 119,
   "metadata": {},
   "outputs": [],
   "source": [
    "bob = {...}"
   ]
  },
  {
   "cell_type": "code",
   "execution_count": 169,
   "metadata": {},
   "outputs": [],
   "source": [
    "class Person:\n",
    "    \"\"\"\n",
    "    An object representing a person. Please take care of them!\n",
    "    \n",
    "    Parameters\n",
    "    ----------\n",
    "    height : int\n",
    "        The height of the person, in centimeters.\n",
    "    weight : float\n",
    "        The weight of the person, in kilograms.\n",
    "    \"\"\"\n",
    "    \n",
    "    def __init__(self, name, height, weight):\n",
    "        self.name = name\n",
    "        self.height = height\n",
    "        self.weight = weight\n",
    "        \n",
    "    def bmi(self):\n",
    "        # we have to divide by 100 because height is given in centimeters\n",
    "        # but BMI calculation requries height in meters\n",
    "        height_in_meters = self.height / 100\n",
    "        squared_him = height_in_meters ** 2\n",
    "        bmi = self.weight / squared_him\n",
    "        return bmi\n",
    "\n",
    "a = 5"
   ]
  },
  {
   "cell_type": "code",
   "execution_count": 177,
   "metadata": {},
   "outputs": [],
   "source": [
    "jane = Person('Jane', 141, 78)"
   ]
  },
  {
   "cell_type": "code",
   "execution_count": 178,
   "metadata": {},
   "outputs": [
    {
     "data": {
      "text/plain": [
       "<__main__.Person at 0x111beac20>"
      ]
     },
     "execution_count": 178,
     "metadata": {},
     "output_type": "execute_result"
    }
   ],
   "source": [
    "jane"
   ]
  },
  {
   "cell_type": "code",
   "execution_count": 179,
   "metadata": {},
   "outputs": [
    {
     "data": {
      "text/plain": [
       "'Jane'"
      ]
     },
     "execution_count": 179,
     "metadata": {},
     "output_type": "execute_result"
    }
   ],
   "source": [
    "jane.name"
   ]
  },
  {
   "cell_type": "code",
   "execution_count": 180,
   "metadata": {},
   "outputs": [
    {
     "data": {
      "text/plain": [
       "78"
      ]
     },
     "execution_count": 180,
     "metadata": {},
     "output_type": "execute_result"
    }
   ],
   "source": [
    "jane.weight"
   ]
  },
  {
   "cell_type": "code",
   "execution_count": 181,
   "metadata": {},
   "outputs": [
    {
     "data": {
      "text/plain": [
       "141"
      ]
     },
     "execution_count": 181,
     "metadata": {},
     "output_type": "execute_result"
    }
   ],
   "source": [
    "jane.height"
   ]
  },
  {
   "cell_type": "code",
   "execution_count": 182,
   "metadata": {},
   "outputs": [
    {
     "data": {
      "text/plain": [
       "39.23343896182285"
      ]
     },
     "execution_count": 182,
     "metadata": {},
     "output_type": "execute_result"
    }
   ],
   "source": [
    "jane.bmi()"
   ]
  },
  {
   "cell_type": "markdown",
   "metadata": {},
   "source": [
    "(this is how you round floats when printing them:"
   ]
  },
  {
   "cell_type": "code",
   "execution_count": 73,
   "metadata": {},
   "outputs": [],
   "source": [
    "jane_bmi = jane.bmi()"
   ]
  },
  {
   "cell_type": "code",
   "execution_count": 74,
   "metadata": {},
   "outputs": [
    {
     "name": "stdout",
     "output_type": "stream",
     "text": [
      "23.81\n"
     ]
    }
   ],
   "source": [
    "print(f\"{jane_bmi:.2f}\")"
   ]
  },
  {
   "cell_type": "code",
   "execution_count": 75,
   "metadata": {},
   "outputs": [],
   "source": [
    "joe = Person(175, 83)"
   ]
  },
  {
   "cell_type": "code",
   "execution_count": 76,
   "metadata": {},
   "outputs": [
    {
     "data": {
      "text/plain": [
       "<__main__.Person at 0x105c36b30>"
      ]
     },
     "execution_count": 76,
     "metadata": {},
     "output_type": "execute_result"
    }
   ],
   "source": [
    "joe"
   ]
  },
  {
   "cell_type": "code",
   "execution_count": 77,
   "metadata": {},
   "outputs": [
    {
     "data": {
      "text/plain": [
       "27.102040816326532"
      ]
     },
     "execution_count": 77,
     "metadata": {},
     "output_type": "execute_result"
    }
   ],
   "source": [
    "joe.bmi()"
   ]
  },
  {
   "cell_type": "markdown",
   "metadata": {},
   "source": [
    "## 8. Serialization using Pickle"
   ]
  },
  {
   "cell_type": "markdown",
   "metadata": {},
   "source": [
    "The Python standard library - the code that comes with any installation of Python - provides a way to save objects to a file on disk (called 'serialization') and loading them from a file on disk (called 'deserialization').\n",
    "\n",
    "Since it is a capability used in data science to save trained models, fitted preprocessing pipelines and other such objects, it is relevant here."
   ]
  },
  {
   "cell_type": "code",
   "execution_count": 78,
   "metadata": {},
   "outputs": [],
   "source": [
    "import pickle"
   ]
  },
  {
   "cell_type": "code",
   "execution_count": 79,
   "metadata": {},
   "outputs": [],
   "source": [
    "with open('aperson.pkl', 'wb+') as f:\n",
    "    pickle.dump(joe, f)"
   ]
  },
  {
   "cell_type": "code",
   "execution_count": 80,
   "metadata": {},
   "outputs": [],
   "source": [
    "with open('aperson.pkl', 'rb') as f:\n",
    "    bob = pickle.load(f)"
   ]
  },
  {
   "cell_type": "code",
   "execution_count": 81,
   "metadata": {},
   "outputs": [
    {
     "data": {
      "text/plain": [
       "<__main__.Person at 0x1064632e0>"
      ]
     },
     "execution_count": 81,
     "metadata": {},
     "output_type": "execute_result"
    }
   ],
   "source": [
    "bob"
   ]
  },
  {
   "cell_type": "code",
   "execution_count": 82,
   "metadata": {},
   "outputs": [
    {
     "data": {
      "text/plain": [
       "175"
      ]
     },
     "execution_count": 82,
     "metadata": {},
     "output_type": "execute_result"
    }
   ],
   "source": [
    "bob.height"
   ]
  },
  {
   "cell_type": "code",
   "execution_count": 83,
   "metadata": {},
   "outputs": [
    {
     "data": {
      "text/plain": [
       "83"
      ]
     },
     "execution_count": 83,
     "metadata": {},
     "output_type": "execute_result"
    }
   ],
   "source": [
    "bob.weight"
   ]
  },
  {
   "cell_type": "code",
   "execution_count": 84,
   "metadata": {},
   "outputs": [
    {
     "data": {
      "text/plain": [
       "27.102040816326532"
      ]
     },
     "execution_count": 84,
     "metadata": {},
     "output_type": "execute_result"
    }
   ],
   "source": [
    "bob.bmi()"
   ]
  },
  {
   "cell_type": "markdown",
   "metadata": {
    "application/vnd.databricks.v1+cell": {
     "cellMetadata": {},
     "inputWidgets": {},
     "nuid": "fa11e628-5716-4e84-82fd-80d21609f0e4",
     "showTitle": false,
     "title": ""
    }
   },
   "source": [
    "## 9. Continue learning:\n",
    "https://docs.python.org/3/tutorial/"
   ]
  }
 ],
 "metadata": {
  "application/vnd.databricks.v1+notebook": {
   "dashboards": [],
   "language": "python",
   "notebookMetadata": {
    "pythonIndentUnit": 4
   },
   "notebookName": "PythonIntro",
   "notebookOrigID": 2394472453390786,
   "widgets": {}
  },
  "kernelspec": {
   "display_name": "Python 3 (ipykernel)",
   "language": "python",
   "name": "python3"
  },
  "language_info": {
   "codemirror_mode": {
    "name": "ipython",
    "version": 3
   },
   "file_extension": ".py",
   "mimetype": "text/x-python",
   "name": "python",
   "nbconvert_exporter": "python",
   "pygments_lexer": "ipython3",
   "version": "3.10.2"
  }
 },
 "nbformat": 4,
 "nbformat_minor": 4
}
