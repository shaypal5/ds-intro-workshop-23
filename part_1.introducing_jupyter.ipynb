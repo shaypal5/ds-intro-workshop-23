{
 "cells": [
  {
   "cell_type": "markdown",
   "metadata": {
    "colab_type": "text",
    "id": "dXQRvMNhxdND"
   },
   "source": [
    "# Part 1: Introducing the Jupyter Notebook"
   ]
  },
  {
   "cell_type": "markdown",
   "metadata": {
    "colab_type": "text",
    "id": "Vdp7sdXHxdNF"
   },
   "source": [
    "## What is the Jupyter Notebook?"
   ]
  },
  {
   "cell_type": "markdown",
   "metadata": {
    "colab_type": "text",
    "id": "XxajIhHfxdNG"
   },
   "source": [
    "The Jupyter Notebook is an interactive computing environment that enables users to author notebook documents that include:\n",
    "\n",
    "* Live code\n",
    "* Interactive widgets\n",
    "* Plots\n",
    "* Narrative text\n",
    "* Equations\n",
    "* Images\n",
    "* Video\n",
    "\n",
    "These documents provide a complete and self-contained record of a computation that can be converted to various formats and shared with others using email, Dropbox, version control systems (like git/GitHub) or nbviewer.jupyter.org."
   ]
  },
  {
   "cell_type": "markdown",
   "metadata": {
    "colab_type": "text",
    "id": "FraUpL-JxdNH"
   },
   "source": [
    "## Components\n",
    "The Jupyter Notebook combines three components:\n",
    "\n",
    "* **The notebook web application**: An interactive web application for writing and running code interactively and authoring notebook documents.\n",
    "* **Kernels**: Separate processes started by the notebook web application that runs users' code in a given language and returns output back to the notebook web application. The kernel also handles things like computations for interactive widgets, tab completion and introspection.\n",
    "* **Notebook documents**: Self-contained documents that contain a representation of all content visible in the notebook web application, including inputs and outputs of the computations, narrative text, equations, images, and rich media representations of objects. Each notebook document has its own kernel.\n",
    "\n",
    "This enables the user to both **edit** and **run** code in the browser."
   ]
  },
  {
   "cell_type": "markdown",
   "metadata": {
    "colab_type": "text",
    "id": "8cfyGFfPxdNI"
   },
   "source": [
    "## Kernels\n",
    "Through Jupyter's kernel and messaging architecture, the Notebook allows code to be run in a range of different programming languages. For each notebook document that a user opens, the web application starts a kernel that runs the code for that notebook. Each kernel is capable of running code in a single programming language and there are kernels available in the following languages:\n",
    "\n",
    "* Python (https://github.com/ipython/ipython)\n",
    "* Julia (https://github.com/JuliaLang/IJulia.jl)\n",
    "* R (https://github.com/takluyver/IRkernel)\n",
    "* Ruby (https://github.com/minrk/iruby)\n",
    "* Haskell (https://github.com/gibiansky/IHaskell)\n",
    "* Scala (https://github.com/Bridgewater/scala-notebook)\n",
    "* node.js (https://gist.github.com/Carreau/4279371)\n",
    "* Go (https://github.com/takluyver/igo)\n",
    "\n",
    "The default kernel runs Python code. The notebook provides a simple way for users to pick which of these kernels is used for a given notebook."
   ]
  },
  {
   "cell_type": "code",
   "execution_count": null,
   "metadata": {},
   "outputs": [],
   "source": [
    "a"
   ]
  },
  {
   "cell_type": "markdown",
   "metadata": {},
   "source": [
    "Hello **world**\n",
    "\n",
    "* hey\n",
    "* ho\n",
    "\n",
    "### Part 2"
   ]
  },
  {
   "cell_type": "code",
   "execution_count": null,
   "metadata": {},
   "outputs": [],
   "source": []
  },
  {
   "cell_type": "markdown",
   "metadata": {
    "colab_type": "text",
    "id": "D5Q2fTa5xdNJ",
    "tags": []
   },
   "source": [
    "## Notebook cells"
   ]
  },
  {
   "cell_type": "markdown",
   "metadata": {
    "colab_type": "text",
    "id": "s-9D3V3hxdNK"
   },
   "source": [
    "A Jupyter notebook is made up of consecutive cells. There are two basic types of cells:\n",
    "* Markdown cells\n",
    "* Code cells"
   ]
  },
  {
   "cell_type": "markdown",
   "metadata": {
    "colab_type": "text",
    "id": "xF9L_V12xdNK"
   },
   "source": [
    "You can turn a cell into a markdown cell by pressing `m` when it is selected (but the cursor is **not** inside it). To turn it to a code cell use `y`."
   ]
  },
  {
   "cell_type": "code",
   "execution_count": 9,
   "metadata": {},
   "outputs": [
    {
     "data": {
      "text/plain": [
       "7"
      ]
     },
     "execution_count": 9,
     "metadata": {},
     "output_type": "execute_result"
    }
   ],
   "source": [
    "5 + 2"
   ]
  },
  {
   "cell_type": "markdown",
   "metadata": {
    "colab_type": "text",
    "id": "2a6sSfdkxdNL"
   },
   "source": [
    "###More comands:\n",
    "* 'Escape' outside of a cell using `Esc`.\n",
    "* Edit the current cell using `Enter`.\n",
    "* Execute a cell using `shift`+`Enter`.\n",
    "\n",
    "In Jupyter Notebooks (but not on *colab*):\n",
    "* Add a cell above the current cell using `a`.\n",
    "* Add a cell above the current cell using `b`.\n",
    "* Copy the current cell using `c`.\n",
    "* Delete the current cell using `dd`."
   ]
  },
  {
   "cell_type": "markdown",
   "metadata": {
    "colab_type": "text",
    "id": "FIx3pfbtxdNL"
   },
   "source": [
    "## Markdown Cells\n",
    "\n",
    "This cell is a markdown cell. This means you can use markdown to write *italic text* by surrounding you text with *asterisks* or _underscores_.\n",
    "Strong emphasis, aka bold, with **asterisks** or __underscores__.\n",
    "Combined emphasis with **asterisks and _underscores_**.\n",
    "Strikethrough uses two tildes. ~~Scratch this.~~\n",
    "\n",
    "Here be headers:\n",
    "# H1\n",
    "## H2\n",
    "### etc...\n",
    "\n",
    "You can create bulleted lists using\n",
    "* Asterisks\n",
    "- Or minuses\n",
    "+ Or pluses\n",
    "\n",
    "### Ordered lists\n",
    "1. First ordered list item\n",
    "2. Another item\n",
    "  * Unordered sub-list. \n",
    "1. Actual numbers don't matter, just that it's a number\n",
    "  1. Ordered sub-list.\n",
    "  \n",
    "   An un-numbered indented paragraph.\n",
    "4. And another item.\n",
    "\n",
    "[And of course add links](https://www.google.com)\n",
    "\n",
    "You can find a nice full markdown cheatsheet here: https://github.com/adam-p/markdown-here/wiki/Markdown-Cheatsheet"
   ]
  },
  {
   "cell_type": "markdown",
   "metadata": {
    "colab_type": "text",
    "id": "XIcvwtmyxdNM"
   },
   "source": [
    "<p>**NOTICE**</p>\n",
    "\n",
    "  <p>HTML tags can also be used <b>inside</b> markdown cells.</p>\n",
    "</div>"
   ]
  },
  {
   "cell_type": "markdown",
   "metadata": {
    "colab_type": "text",
    "id": "nGFegaYLxdNN"
   },
   "source": [
    "## Code Cells"
   ]
  },
  {
   "cell_type": "code",
   "execution_count": 1,
   "metadata": {
    "colab": {},
    "colab_type": "code",
    "id": "c3DJV5VrxdNN"
   },
   "outputs": [],
   "source": [
    "# this is a code cell\n",
    "a = 5"
   ]
  },
  {
   "cell_type": "code",
   "execution_count": 2,
   "metadata": {
    "colab": {
     "base_uri": "https://localhost:8080/",
     "height": 34
    },
    "colab_type": "code",
    "executionInfo": {
     "elapsed": 531,
     "status": "ok",
     "timestamp": 1565864335301,
     "user": {
      "displayName": "Shay Palachy",
      "photoUrl": "https://lh5.googleusercontent.com/-_8J8Je8o3NQ/AAAAAAAAAAI/AAAAAAAAFOE/d2-wJaGxpaA/s64/photo.jpg",
      "userId": "01723284119030760908"
     },
     "user_tz": -180
    },
    "id": "11R4NJYYxdNR",
    "outputId": "9c4c7195-ac75-4e6e-9649-b7c622decabe"
   },
   "outputs": [
    {
     "data": {
      "text/plain": [
       "5"
      ]
     },
     "execution_count": 2,
     "metadata": {},
     "output_type": "execute_result"
    }
   ],
   "source": [
    "# a line containing only an expression will print it\n",
    "a"
   ]
  },
  {
   "cell_type": "code",
   "execution_count": 3,
   "metadata": {
    "colab": {},
    "colab_type": "code",
    "id": "Z0EcqEDvxdNU"
   },
   "outputs": [],
   "source": [
    "# unless it ends with a semicolon\n",
    "a;"
   ]
  },
  {
   "cell_type": "code",
   "execution_count": 4,
   "metadata": {
    "colab": {},
    "colab_type": "code",
    "id": "2G5MWI9MxdNW"
   },
   "outputs": [],
   "source": [
    "# you can also define functions\n",
    "def foo(a, b):\n",
    "    \"\"\"Foo documentation.\"\"\"\n",
    "    return a*5 + 2/b"
   ]
  },
  {
   "cell_type": "code",
   "execution_count": 5,
   "metadata": {
    "colab": {
     "base_uri": "https://localhost:8080/",
     "height": 34
    },
    "colab_type": "code",
    "executionInfo": {
     "elapsed": 745,
     "status": "ok",
     "timestamp": 1565864343265,
     "user": {
      "displayName": "Shay Palachy",
      "photoUrl": "https://lh5.googleusercontent.com/-_8J8Je8o3NQ/AAAAAAAAAAI/AAAAAAAAFOE/d2-wJaGxpaA/s64/photo.jpg",
      "userId": "01723284119030760908"
     },
     "user_tz": -180
    },
    "id": "0bhzFsNFxdNY",
    "outputId": "5efcad27-e813-4c75-c1b3-3f6fbbb3782f"
   },
   "outputs": [
    {
     "data": {
      "text/plain": [
       "25.25"
      ]
     },
     "execution_count": 5,
     "metadata": {},
     "output_type": "execute_result"
    }
   ],
   "source": [
    "# and then use them!\n",
    "foo(5,8)"
   ]
  },
  {
   "cell_type": "code",
   "execution_count": 6,
   "metadata": {
    "colab": {
     "base_uri": "https://localhost:8080/",
     "height": 51
    },
    "colab_type": "code",
    "executionInfo": {
     "elapsed": 535,
     "status": "ok",
     "timestamp": 1565864346647,
     "user": {
      "displayName": "Shay Palachy",
      "photoUrl": "https://lh5.googleusercontent.com/-_8J8Je8o3NQ/AAAAAAAAAAI/AAAAAAAAFOE/d2-wJaGxpaA/s64/photo.jpg",
      "userId": "01723284119030760908"
     },
     "user_tz": -180
    },
    "id": "nbpbD7pxxdNb",
    "outputId": "a3da4249-5f4c-4990-d70a-837ad0b2f406"
   },
   "outputs": [
    {
     "name": "stdout",
     "output_type": "stream",
     "text": [
      "CPU times: user 28 ms, sys: 11 ms, total: 38.9 ms\n",
      "Wall time: 38.3 ms\n"
     ]
    }
   ],
   "source": [
    "# you can also use IPython magic functions!\n",
    "%time numbers = [x for x in range(1000000)]"
   ]
  },
  {
   "cell_type": "code",
   "execution_count": 7,
   "metadata": {
    "colab": {
     "base_uri": "https://localhost:8080/",
     "height": 34
    },
    "colab_type": "code",
    "executionInfo": {
     "elapsed": 3315,
     "status": "ok",
     "timestamp": 1565864352232,
     "user": {
      "displayName": "Shay Palachy",
      "photoUrl": "https://lh5.googleusercontent.com/-_8J8Je8o3NQ/AAAAAAAAAAI/AAAAAAAAFOE/d2-wJaGxpaA/s64/photo.jpg",
      "userId": "01723284119030760908"
     },
     "user_tz": -180
    },
    "id": "ppBPkqUFxdNd",
    "outputId": "1e3ba24e-5252-4abd-85e4-965918cd6b42"
   },
   "outputs": [
    {
     "name": "stdout",
     "output_type": "stream",
     "text": [
      "3.04 ms ± 47.7 µs per loop (mean ± std. dev. of 7 runs, 100 loops each)\n"
     ]
    }
   ],
   "source": [
    "%timeit numbers = [x for x in range(100000)]"
   ]
  },
  {
   "cell_type": "markdown",
   "metadata": {
    "colab_type": "text",
    "id": "QCf-fiySxdNf"
   },
   "source": [
    "It is also easy to display plots inside a Jupyter notebook. We'll see this later."
   ]
  },
  {
   "cell_type": "code",
   "execution_count": null,
   "metadata": {
    "colab": {},
    "colab_type": "code",
    "id": "uCjbABubxdNg"
   },
   "outputs": [],
   "source": []
  }
 ],
 "metadata": {
  "colab": {
   "collapsed_sections": [],
   "name": "part_1.introducing_jupyter.ipynb",
   "provenance": [],
   "version": "0.3.2"
  },
  "kernelspec": {
   "display_name": "Python 3 (ipykernel)",
   "language": "python",
   "name": "python3"
  },
  "language_info": {
   "codemirror_mode": {
    "name": "ipython",
    "version": 3
   },
   "file_extension": ".py",
   "mimetype": "text/x-python",
   "name": "python",
   "nbconvert_exporter": "python",
   "pygments_lexer": "ipython3",
   "version": "3.10.2"
  }
 },
 "nbformat": 4,
 "nbformat_minor": 4
}
